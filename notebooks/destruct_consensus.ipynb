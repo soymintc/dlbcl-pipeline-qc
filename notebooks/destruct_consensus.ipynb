{
 "cells": [
  {
   "cell_type": "markdown",
   "id": "0126b548-b368-474c-a630-65ce098df7de",
   "metadata": {},
   "source": [
    "# Settings"
   ]
  },
  {
   "cell_type": "markdown",
   "id": "088c2ea4-c3e5-4050-8190-c8517d11282b",
   "metadata": {},
   "source": [
    "## modules"
   ]
  },
  {
   "cell_type": "code",
   "execution_count": 1,
   "id": "3932fba5-95a6-4bde-b706-dbee0efff0ee",
   "metadata": {},
   "outputs": [],
   "source": [
    "%load_ext autoreload\n",
    "%autoreload 2"
   ]
  },
  {
   "cell_type": "code",
   "execution_count": 32,
   "id": "9f8b1c38-11cc-4866-a4d7-02edd2579867",
   "metadata": {},
   "outputs": [],
   "source": [
    "import parse_lumpy\n",
    "import parse_destruct\n",
    "import consensus"
   ]
  },
  {
   "cell_type": "code",
   "execution_count": 21,
   "id": "a9dbad9c-aa6d-4114-a018-10f3b650daca",
   "metadata": {},
   "outputs": [],
   "source": [
    "import copy\n",
    "import numpy as np\n",
    "import pandas as pd\n",
    "from collections import defaultdict\n",
    "import pandas as pd\n",
    "from intervaltree import IntervalTree\n",
    "from wgs.utils import csvutils\n",
    "import vcf"
   ]
  },
  {
   "cell_type": "markdown",
   "id": "6073f92c-25e0-4b86-bafd-d8eb47a846c5",
   "metadata": {},
   "source": [
    "# Data"
   ]
  },
  {
   "cell_type": "code",
   "execution_count": 5,
   "id": "ac6ce3af-05c4-40de-aba0-b05dc1d3e1cc",
   "metadata": {},
   "outputs": [],
   "source": [
    "lumpy_path = '../data/breakpoints/HCM-BROD-0011-C71-01A_lumpy.vcf'\n",
    "destruct_path = '../data/breakpoints/HCM-BROD-0011-C71-01A_destruct_breakpoints.tsv'"
   ]
  },
  {
   "cell_type": "markdown",
   "id": "e04d853a-bcf7-440e-8bf9-5d3dcc659fe7",
   "metadata": {},
   "source": [
    "# Proc"
   ]
  },
  {
   "cell_type": "markdown",
   "id": "0d375823-d2d0-41c5-b01c-899d0cbd0ba0",
   "metadata": {},
   "source": [
    "## configs"
   ]
  },
  {
   "cell_type": "code",
   "execution_count": 6,
   "id": "89a09f22-9c1e-4690-bc55-cd2a99d5f6bb",
   "metadata": {},
   "outputs": [],
   "source": [
    "config = {\n",
    "    'chromosomes': list(map(str, range(1, 23))) + ['X'],\n",
    "    'lumpy_paths': {\n",
    "        'extractSplitReads_BwaMem': 'lumpy_extractSplitReads_BwaMem',\n",
    "        'samtools': 'samtools',\n",
    "        'lumpyexpress': 'lumpyexpress',\n",
    "    },\n",
    "    'parse_lumpy': {\n",
    "        'deletion_size_threshold': 0,\n",
    "        'tumour_read_support_threshold': 0,\n",
    "    },\n",
    "    'parse_destruct': {\n",
    "        'deletion_size_threshold': 1000,\n",
    "        'foldback_threshold': 30000,\n",
    "        'readsupport_threshold': 4,\n",
    "        'breakdistance_threshold': 30\n",
    "    },\n",
    "    'consensus': {\n",
    "        'confidence_interval_size': 500,\n",
    "    },\n",
    "}"
   ]
  },
  {
   "cell_type": "markdown",
   "id": "b1af7ee6-419e-4555-8e40-2bf803c58c70",
   "metadata": {},
   "source": [
    "## process lumpy"
   ]
  },
  {
   "cell_type": "code",
   "execution_count": 28,
   "id": "70e02a1d-5f55-4d58-ac62-af68d790376b",
   "metadata": {},
   "outputs": [],
   "source": [
    "lumpy_output_path = '../data/breakpoints/HCM-BROD-0011-C71-01A_filtered_lumpy.csv'\n",
    "vcfdata = parse_lumpy.parse_vcf(lumpy_path)\n",
    "vcfdata = parse_lumpy.parse_vcf_group(vcfdata)\n",
    "vcfdata = parse_lumpy.create_data(vcfdata)\n",
    "vcfdata = parse_lumpy.convert_to_df(vcfdata)\n",
    "vcfdata = parse_lumpy.filter_calls(vcfdata, config['parse_lumpy'])\n",
    "parse_lumpy.write(lumpy_output_path, vcfdata)"
   ]
  },
  {
   "cell_type": "markdown",
   "id": "db2750f6-f52f-457d-9991-61d2095f728c",
   "metadata": {},
   "source": [
    "## process destruct"
   ]
  },
  {
   "cell_type": "code",
   "execution_count": 29,
   "id": "8f410ff0-d24e-429d-8d21-0b5027ec9518",
   "metadata": {},
   "outputs": [
    {
     "name": "stderr",
     "output_type": "stream",
     "text": [
      "/rtsess01/compute/juno/shah/users/chois7/tickets/akansha-pipeline-qc/notebooks/parse_destruct.py:17: FutureWarning: ChainedAssignmentError: behaviour will change in pandas 3.0!\n",
      "You are setting values through chained assignment. Currently this works in certain cases, but when using Copy-on-Write (which will become the default behaviour in pandas 3.0) this will never work to update the original DataFrame or Series, because the intermediate object on which we are setting values will behave as a copy.\n",
      "A typical example is when you are setting values in a column of a DataFrame, like:\n",
      "\n",
      "df[\"col\"][row_indexer] = value\n",
      "\n",
      "Use `df.loc[row_indexer, \"col\"] = values` instead, to perform the assignment in a single step and ensure this keeps updating the original `df`.\n",
      "\n",
      "See the caveats in the documentation: https://pandas.pydata.org/pandas-docs/stable/user_guide/indexing.html#returning-a-view-versus-a-copy\n",
      "\n",
      "  df['break_distance'][df['chromosome_1'] != df['chromosome_2']] = np.inf\n",
      "/rtsess01/compute/juno/shah/users/chois7/tickets/akansha-pipeline-qc/notebooks/parse_destruct.py:17: SettingWithCopyWarning: \n",
      "A value is trying to be set on a copy of a slice from a DataFrame\n",
      "\n",
      "See the caveats in the documentation: https://pandas.pydata.org/pandas-docs/stable/user_guide/indexing.html#returning-a-view-versus-a-copy\n",
      "  df['break_distance'][df['chromosome_1'] != df['chromosome_2']] = np.inf\n",
      "/rtsess01/compute/juno/shah/users/chois7/tickets/akansha-pipeline-qc/notebooks/parse_destruct.py:17: FutureWarning: Setting an item of incompatible dtype is deprecated and will raise an error in a future version of pandas. Value 'inf' has dtype incompatible with int64, please explicitly cast to a compatible dtype first.\n",
      "  df['break_distance'][df['chromosome_1'] != df['chromosome_2']] = np.inf\n"
     ]
    }
   ],
   "source": [
    "destruct_output_path = '../data/breakpoints/HCM-BROD-0011-C71-01A_filtered_destruct.csv'\n",
    "parse_destruct.parser(destruct_path, destruct_output_path, config['parse_destruct'], foldback_threshold=config['parse_destruct']['foldback_threshold'])"
   ]
  },
  {
   "cell_type": "markdown",
   "id": "1a66d698-a794-4e8f-8350-d4b523bc3e78",
   "metadata": {},
   "source": [
    "## consensus"
   ]
  },
  {
   "cell_type": "code",
   "execution_count": 39,
   "id": "303e90ea-3318-413c-b223-7c4037a6f1ca",
   "metadata": {},
   "outputs": [],
   "source": [
    "consensus_path = '../data/breakpoints/consensus.csv'\n",
    "consensus.consensus(\n",
    "    destruct_output_path, lumpy_output_path, consensus_path, confidence_interval=config['consensus']['confidence_interval_size']\n",
    ")"
   ]
  }
 ],
 "metadata": {
  "kernelspec": {
   "display_name": "Python 3 (ipykernel)",
   "language": "python",
   "name": "python3"
  },
  "language_info": {
   "codemirror_mode": {
    "name": "ipython",
    "version": 3
   },
   "file_extension": ".py",
   "mimetype": "text/x-python",
   "name": "python",
   "nbconvert_exporter": "python",
   "pygments_lexer": "ipython3",
   "version": "3.9.18"
  }
 },
 "nbformat": 4,
 "nbformat_minor": 5
}
